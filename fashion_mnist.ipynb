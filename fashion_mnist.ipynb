{
  "nbformat": 4,
  "nbformat_minor": 0,
  "metadata": {
    "colab": {
      "provenance": [],
      "authorship_tag": "ABX9TyMH/FyPJwCtZECCXhmvtgCT"
    },
    "kernelspec": {
      "name": "python3",
      "display_name": "Python 3"
    },
    "language_info": {
      "name": "python"
    }
  },
  "cells": [
    {
      "cell_type": "code",
      "execution_count": 1,
      "metadata": {
        "id": "ALZbY8N5LvYS"
      },
      "outputs": [],
      "source": [
        "import tensorflow as tf\n",
        "from tensorflow import keras"
      ]
    },
    {
      "cell_type": "code",
      "source": [
        "mnist=tf.keras.datasets.fashion_mnist\n",
        "(train_images,train_labels),(test_images,test_labels)=mnist.load_data()"
      ],
      "metadata": {
        "colab": {
          "base_uri": "https://localhost:8080/"
        },
        "id": "mJ1Tc8qWMS2e",
        "outputId": "40c0ddb0-83e3-4f0c-bdb7-6c17cf42f8ef"
      },
      "execution_count": 2,
      "outputs": [
        {
          "output_type": "stream",
          "name": "stdout",
          "text": [
            "Downloading data from https://storage.googleapis.com/tensorflow/tf-keras-datasets/train-labels-idx1-ubyte.gz\n",
            "29515/29515 [==============================] - 0s 0us/step\n",
            "Downloading data from https://storage.googleapis.com/tensorflow/tf-keras-datasets/train-images-idx3-ubyte.gz\n",
            "26421880/26421880 [==============================] - 0s 0us/step\n",
            "Downloading data from https://storage.googleapis.com/tensorflow/tf-keras-datasets/t10k-labels-idx1-ubyte.gz\n",
            "5148/5148 [==============================] - 0s 0us/step\n",
            "Downloading data from https://storage.googleapis.com/tensorflow/tf-keras-datasets/t10k-images-idx3-ubyte.gz\n",
            "4422102/4422102 [==============================] - 0s 0us/step\n"
          ]
        }
      ]
    },
    {
      "cell_type": "code",
      "source": [
        "model=keras.Sequential([\n",
        "    keras.layers.Flatten(input_shape=(28,28)),\n",
        "    keras.layers.Dense(128,activation=tf.nn.relu),\n",
        "    keras.layers.Dense(10,activation=tf.nn.softmax)\n",
        "])"
      ],
      "metadata": {
        "id": "9umpYccsMij7"
      },
      "execution_count": 3,
      "outputs": []
    },
    {
      "cell_type": "code",
      "source": [
        "import numpy as np\n",
        "import matplotlib.pyplot as plt"
      ],
      "metadata": {
        "id": "R39MWeKMOqSj"
      },
      "execution_count": 4,
      "outputs": []
    },
    {
      "cell_type": "code",
      "source": [
        "fmnist = tf.keras.datasets.fashion_mnist\n",
        "(x_train, y_train),(x_test, y_test) = fmnist.load_data()\n",
        "x_train, x_test = x_train / 255.0, x_test / 255.0"
      ],
      "metadata": {
        "id": "UgQg08YlOvQB"
      },
      "execution_count": 8,
      "outputs": []
    },
    {
      "cell_type": "code",
      "source": [
        "model.compile(optimizer=tf.optimizers.Adam(),\n",
        "              loss='sparse_categorical_crossentropy',\n",
        "              metrics=['accuracy'])"
      ],
      "metadata": {
        "id": "f3T6m-ulQ0Nx"
      },
      "execution_count": 9,
      "outputs": []
    },
    {
      "cell_type": "code",
      "source": [
        "model.fit(x_train, y_train, epochs=15)"
      ],
      "metadata": {
        "colab": {
          "base_uri": "https://localhost:8080/"
        },
        "id": "uqc5TocCRYRu",
        "outputId": "0b52bcae-d89a-435f-be53-127084b36d6e"
      },
      "execution_count": 12,
      "outputs": [
        {
          "output_type": "stream",
          "name": "stdout",
          "text": [
            "Epoch 1/15\n",
            "1875/1875 [==============================] - 8s 4ms/step - loss: 0.2311 - accuracy: 0.9132\n",
            "Epoch 2/15\n",
            "1875/1875 [==============================] - 8s 4ms/step - loss: 0.2249 - accuracy: 0.9164\n",
            "Epoch 3/15\n",
            "1875/1875 [==============================] - 7s 4ms/step - loss: 0.2179 - accuracy: 0.9177\n",
            "Epoch 4/15\n",
            "1875/1875 [==============================] - 8s 4ms/step - loss: 0.2101 - accuracy: 0.9206\n",
            "Epoch 5/15\n",
            "1875/1875 [==============================] - 8s 4ms/step - loss: 0.2044 - accuracy: 0.9234\n",
            "Epoch 6/15\n",
            "1875/1875 [==============================] - 8s 4ms/step - loss: 0.1990 - accuracy: 0.9265\n",
            "Epoch 7/15\n",
            "1875/1875 [==============================] - 8s 4ms/step - loss: 0.1927 - accuracy: 0.9289\n",
            "Epoch 8/15\n",
            "1875/1875 [==============================] - 7s 4ms/step - loss: 0.1873 - accuracy: 0.9291\n",
            "Epoch 9/15\n",
            "1875/1875 [==============================] - 8s 4ms/step - loss: 0.1839 - accuracy: 0.9305\n",
            "Epoch 10/15\n",
            "1875/1875 [==============================] - 8s 4ms/step - loss: 0.1798 - accuracy: 0.9319\n",
            "Epoch 11/15\n",
            "1875/1875 [==============================] - 8s 4ms/step - loss: 0.1742 - accuracy: 0.9340\n",
            "Epoch 12/15\n",
            "1875/1875 [==============================] - 8s 4ms/step - loss: 0.1695 - accuracy: 0.9357\n",
            "Epoch 13/15\n",
            "1875/1875 [==============================] - 7s 4ms/step - loss: 0.1669 - accuracy: 0.9367\n",
            "Epoch 14/15\n",
            "1875/1875 [==============================] - 8s 4ms/step - loss: 0.1603 - accuracy: 0.9397\n",
            "Epoch 15/15\n",
            "1875/1875 [==============================] - 9s 5ms/step - loss: 0.1584 - accuracy: 0.9401\n"
          ]
        },
        {
          "output_type": "execute_result",
          "data": {
            "text/plain": [
              "<keras.src.callbacks.History at 0x7cdd99a172b0>"
            ]
          },
          "metadata": {},
          "execution_count": 12
        }
      ]
    },
    {
      "cell_type": "code",
      "source": [
        "model.evaluate(test_images, test_labels)"
      ],
      "metadata": {
        "colab": {
          "base_uri": "https://localhost:8080/"
        },
        "id": "yQkTubIQRgrr",
        "outputId": "5004604a-427a-4c76-a396-6fd6636aed09"
      },
      "execution_count": 13,
      "outputs": [
        {
          "output_type": "stream",
          "name": "stdout",
          "text": [
            "313/313 [==============================] - 1s 2ms/step - loss: 89.0291 - accuracy: 0.8570\n"
          ]
        },
        {
          "output_type": "execute_result",
          "data": {
            "text/plain": [
              "[89.02910614013672, 0.8569999933242798]"
            ]
          },
          "metadata": {},
          "execution_count": 13
        }
      ]
    },
    {
      "cell_type": "code",
      "source": [
        "import numpy as np\n",
        "import matplotlib.pyplot as plt\n",
        "\n",
        "index = 9\n",
        "\n",
        "np.set_printoptions(linewidth=320)\n",
        "\n",
        "print(f'LABEL: {y_train[index]}')\n",
        "print(f'\\nIMAGE PIXEL ARRAY:\\n {x_train[index]}')\n",
        "\n",
        "plt.imshow(x_train[index])"
      ],
      "metadata": {
        "colab": {
          "base_uri": "https://localhost:8080/",
          "height": 1000
        },
        "id": "GcmtQrFxTcaD",
        "outputId": "5e35eabb-c4b5-45b5-d371-72fe9937f8d9"
      },
      "execution_count": 18,
      "outputs": [
        {
          "output_type": "stream",
          "name": "stdout",
          "text": [
            "LABEL: 5\n",
            "\n",
            "IMAGE PIXEL ARRAY:\n",
            " [[0.         0.         0.         0.         0.         0.         0.         0.         0.         0.         0.         0.         0.         0.         0.         0.         0.         0.         0.         0.         0.         0.         0.         0.         0.         0.         0.         0.        ]\n",
            " [0.         0.         0.         0.         0.         0.         0.         0.         0.         0.         0.         0.         0.         0.         0.         0.         0.         0.         0.         0.         0.         0.         0.         0.         0.         0.         0.         0.        ]\n",
            " [0.         0.         0.         0.         0.         0.         0.         0.         0.         0.         0.         0.         0.         0.00392157 0.00392157 0.         0.         0.         0.         0.         0.         0.         0.64313725 0.19607843 0.         0.02745098 0.         0.        ]\n",
            " [0.         0.         0.         0.         0.         0.         0.         0.         0.00392157 0.         0.         0.00392157 0.         0.         0.00392157 0.00392157 0.         0.         0.01960784 0.         0.17647059 0.85098039 1.         0.69019608 0.         0.02352941 0.         0.        ]\n",
            " [0.         0.         0.         0.         0.         0.         0.         0.         0.         0.00392157 0.00392157 0.         0.01176471 0.01176471 0.01960784 0.03529412 0.         0.00784314 0.         0.24313725 0.9254902  0.90588235 0.84313725 0.10588235 0.         0.00392157 0.         0.        ]\n",
            " [0.         0.         0.         0.         0.         0.         0.         0.         0.         0.         0.         0.         0.         0.         0.         0.         0.         0.         0.11372549 0.95686275 0.90588235 0.91764706 0.29019608 0.         0.00392157 0.         0.         0.        ]\n",
            " [0.         0.         0.         0.         0.         0.         0.         0.         0.         0.00784314 0.         0.         0.         0.09019608 0.16078431 0.23137255 0.43529412 0.5254902  0.54117647 0.88627451 0.79215686 0.85098039 0.08627451 0.         0.00392157 0.         0.         0.        ]\n",
            " [0.         0.         0.         0.         0.         0.         0.         0.         0.         0.01960784 0.         0.1372549  0.70196078 0.76470588 0.71372549 0.88235294 0.77647059 0.94509804 0.69411765 0.78039216 0.80392157 0.82352941 0.10196078 0.         0.00392157 0.         0.         0.01176471]\n",
            " [0.         0.         0.         0.         0.         0.         0.         0.         0.         0.         0.         0.         0.0745098  0.         0.         0.         0.         0.         0.92156863 0.95294118 0.77647059 0.46666667 0.         0.01176471 0.00392157 0.01176471 0.01568627 0.        ]\n",
            " [0.         0.         0.         0.         0.         0.         0.         0.         0.         0.         0.         0.         0.         0.00784314 0.01960784 0.         0.         0.         0.66666667 0.98823529 0.70980392 0.71372549 0.         0.         0.         0.         0.         0.0745098 ]\n",
            " [0.         0.         0.         0.         0.         0.         0.         0.         0.         0.         0.         0.         0.00392157 0.00392157 0.         0.         0.01568627 0.         0.29803922 1.         0.71764706 0.85882353 0.03529412 0.         0.         0.16470588 0.74901961 0.64313725]\n",
            " [0.         0.         0.         0.         0.         0.         0.         0.         0.         0.         0.         0.         0.         0.         0.         0.         0.00784314 0.         0.         0.92941176 0.77647059 0.8        0.29411765 0.18431373 0.86666667 0.86666667 0.93333333 0.09803922]\n",
            " [0.         0.         0.         0.         0.         0.         0.         0.         0.         0.         0.         0.00392157 0.         0.         0.00392157 0.00784314 0.00392157 0.         0.         0.81960784 0.83137255 0.89803922 1.         0.99607843 0.90980392 0.89019608 0.68235294 0.        ]\n",
            " [0.         0.         0.         0.         0.         0.         0.         0.         0.         0.         0.         0.         0.         0.         0.00392157 0.         0.         0.         0.         0.         0.82352941 1.         0.34117647 0.39607843 0.90196078 0.93333333 0.41176471 0.        ]\n",
            " [0.         0.         0.         0.         0.         0.         0.         0.         0.         0.         0.         0.         0.         0.00392157 0.         0.01568627 0.00392157 0.         0.00392157 0.98039216 0.9254902  0.         0.         0.         0.87843137 0.91372549 0.07843137 0.        ]\n",
            " [0.         0.         0.         0.         0.         0.00392157 0.01176471 0.01568627 0.01568627 0.00784314 0.         0.         0.         0.00392157 0.         0.00784314 0.         0.         0.8        0.7254902  0.         0.         0.         0.02352941 0.89019608 0.79215686 0.         0.        ]\n",
            " [0.         0.00392157 0.         0.00392157 0.         0.         0.         0.         0.         0.         0.         0.         0.         0.00392157 0.         0.         0.         0.67843137 0.62352941 0.         0.         0.00784314 0.         0.03921569 0.92941176 0.6        0.         0.        ]\n",
            " [0.         0.         0.00392157 0.         0.         0.         0.         0.15686275 0.54117647 0.08235294 0.         0.         0.00784314 0.         0.03137255 0.         0.51764706 0.76470588 0.         0.         0.         0.         0.         0.03137255 0.94117647 0.4627451  0.         0.00392157]\n",
            " [0.01960784 0.02352941 0.01568627 0.         0.51764706 0.90980392 0.81568627 0.81568627 0.94509804 0.85098039 0.         0.         0.         0.00392157 0.         0.11372549 0.85098039 0.1372549  0.         0.03529412 0.         0.00784314 0.         0.09803922 0.93333333 0.22745098 0.         0.00784314]\n",
            " [0.         0.         0.         0.         0.70980392 1.         0.90588235 0.91372549 0.85882353 0.93333333 0.30196078 0.         0.         0.         0.         0.76862745 0.56862745 0.         0.         0.         0.         0.00784314 0.         0.19215686 0.89411765 0.         0.         0.00784314]\n",
            " [0.24313725 0.36078431 0.03137255 0.         0.81176471 1.         0.84705882 0.77647059 0.74117647 0.81568627 0.86666667 0.         0.         0.         0.69411765 0.9372549  0.0745098  0.         0.         0.         0.         0.00784314 0.         0.25098039 0.85490196 0.         0.         0.01176471]\n",
            " [0.37647059 0.97647059 0.8745098  0.82745098 0.92941176 0.95294118 0.82745098 0.89411765 1.         0.98823529 1.         0.54117647 0.14901961 0.68627451 0.94901961 0.67843137 0.         0.         0.         0.         0.         0.00784314 0.         0.34901961 0.8        0.         0.         0.00784314]\n",
            " [0.         0.77254902 0.94117647 0.94117647 0.92941176 0.85882353 0.87058824 0.95686275 0.92156863 0.95294118 0.95686275 1.         1.         0.91764706 0.91372549 0.17647059 0.         0.00784314 0.         0.         0.         0.00784314 0.         0.41176471 0.7372549  0.         0.         0.        ]\n",
            " [0.         0.64705882 0.99215686 0.87843137 0.89803922 0.94901961 0.95686275 0.90980392 0.9372549  0.94901961 0.95294118 0.92941176 0.90196078 0.90196078 0.81176471 0.         0.         0.00392157 0.         0.         0.         0.03529412 0.         0.47058824 0.64705882 0.         0.03137255 0.        ]\n",
            " [0.         0.17647059 1.         0.98823529 0.99215686 0.94509804 0.89803922 0.8745098  0.90196078 0.92156863 0.94117647 0.9372549  0.91372549 0.96078431 0.25490196 0.         0.00784314 0.         0.         0.         0.         0.03921569 0.         0.50196078 0.56078431 0.         0.03921569 0.        ]\n",
            " [0.         0.         0.         0.28235294 0.79215686 1.         1.         1.         1.         1.         1.         1.         1.         0.76078431 0.         0.         0.00784314 0.         0.         0.         0.         0.03137255 0.         0.72941176 0.62745098 0.         0.03529412 0.        ]\n",
            " [0.         0.         0.         0.         0.         0.         0.14901961 0.34901961 0.52941176 0.63529412 0.70588235 0.70196078 0.59607843 0.         0.         0.00392157 0.         0.         0.         0.         0.         0.00392157 0.         0.26666667 0.11372549 0.         0.01176471 0.        ]\n",
            " [0.         0.         0.         0.         0.         0.         0.         0.         0.         0.         0.         0.         0.         0.         0.         0.         0.         0.         0.         0.         0.         0.         0.         0.         0.         0.         0.         0.        ]]\n"
          ]
        },
        {
          "output_type": "execute_result",
          "data": {
            "text/plain": [
              "<matplotlib.image.AxesImage at 0x7cdda8f66710>"
            ]
          },
          "metadata": {},
          "execution_count": 18
        },
        {
          "output_type": "display_data",
          "data": {
            "text/plain": [
              "<Figure size 640x480 with 1 Axes>"
            ],
            "image/png": "[encoded data removed]"
          },
          "metadata": {}
        }
      ]
    },
    {
      "cell_type": "code",
      "source": [
        "class myCallback(tf.keras.callbacks.Callback):\n",
        "  def on_epoch_end(self, epoch, logs={}):\n",
        "    if(logs.get('loss') < 0.4):\n",
        "      print(\"\\nLoss is lower than 0.4 so cancelling training!\")\n",
        "      self.model.stop_training = True\n",
        "\n",
        "callbacks = myCallback()"
      ],
      "metadata": {
        "id": "qZnPiR34UNRt"
      },
      "execution_count": 19,
      "outputs": []
    },
    {
      "cell_type": "code",
      "source": [
        "model.fit(x_train, y_train, epochs=10, callbacks=[callbacks])"
      ],
      "metadata": {
        "colab": {
          "base_uri": "https://localhost:8080/"
        },
        "id": "N9ow-Y-gUwZ7",
        "outputId": "97815156-3f3b-4022-a734-f683d1bb5e83"
      },
      "execution_count": 20,
      "outputs": [
        {
          "output_type": "stream",
          "name": "stdout",
          "text": [
            "Epoch 1/10\n",
            "1875/1875 [==============================] - ETA: 0s - loss: 0.1551 - accuracy: 0.9417\n",
            "Loss is lower than 0.4 so cancelling training!\n",
            "1875/1875 [==============================] - 9s 5ms/step - loss: 0.1551 - accuracy: 0.9417\n"
          ]
        },
        {
          "output_type": "execute_result",
          "data": {
            "text/plain": [
              "<keras.src.callbacks.History at 0x7cdda8fda710>"
            ]
          },
          "metadata": {},
          "execution_count": 20
        }
      ]
    },
    {
      "cell_type": "code",
      "source": [],
      "metadata": {
        "id": "ShKotgPVU01F"
      },
      "execution_count": null,
      "outputs": []
    }
  ]
}